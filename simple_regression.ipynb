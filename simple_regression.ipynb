{
 "cells": [
  {
   "cell_type": "code",
   "execution_count": 1,
   "metadata": {
    "colab": {
     "autoexec": {
      "startup": false,
      "wait_interval": 0
     }
    },
    "colab_type": "code",
    "collapsed": true,
    "id": "diQvTLiDAWZ2"
   },
   "outputs": [],
   "source": [
    "%matplotlib inline\n",
    "\n",
    "import matplotlib.pyplot as plt\n",
    "from bayes_opt import BayesianOptimization\n",
    "\n",
    "from sklearn.model_selection import cross_val_score, train_test_split\n",
    "from sklearn.linear_model import ElasticNet\n",
    "from sklearn.metrics import r2_score\n",
    "\n",
    "import pandas as pd\n",
    "import numpy as np\n",
    "import warnings\n",
    "\n",
    "pd.options.display.max_columns=999\n",
    "warnings.filterwarnings('ignore')\n",
    "plt.style.use('ggplot')\n",
    "seed = 101 # Lucky seed"
   ]
  },
  {
   "cell_type": "markdown",
   "metadata": {},
   "source": [
    "Load and inspect House Sales in King County, USA dataset."
   ]
  },
  {
   "cell_type": "code",
   "execution_count": 2,
   "metadata": {
    "collapsed": false
   },
   "outputs": [
    {
     "data": {
      "text/html": [
       "<div>\n",
       "<style>\n",
       "    .dataframe thead tr:only-child th {\n",
       "        text-align: right;\n",
       "    }\n",
       "\n",
       "    .dataframe thead th {\n",
       "        text-align: left;\n",
       "    }\n",
       "\n",
       "    .dataframe tbody tr th {\n",
       "        vertical-align: top;\n",
       "    }\n",
       "</style>\n",
       "<table border=\"1\" class=\"dataframe\">\n",
       "  <thead>\n",
       "    <tr style=\"text-align: right;\">\n",
       "      <th></th>\n",
       "      <th>id</th>\n",
       "      <th>date</th>\n",
       "      <th>price</th>\n",
       "      <th>bedrooms</th>\n",
       "      <th>bathrooms</th>\n",
       "      <th>sqft_living</th>\n",
       "      <th>sqft_lot</th>\n",
       "      <th>floors</th>\n",
       "      <th>waterfront</th>\n",
       "      <th>view</th>\n",
       "      <th>condition</th>\n",
       "      <th>grade</th>\n",
       "      <th>sqft_above</th>\n",
       "      <th>sqft_basement</th>\n",
       "      <th>yr_built</th>\n",
       "      <th>yr_renovated</th>\n",
       "      <th>zipcode</th>\n",
       "      <th>lat</th>\n",
       "      <th>long</th>\n",
       "      <th>sqft_living15</th>\n",
       "      <th>sqft_lot15</th>\n",
       "    </tr>\n",
       "  </thead>\n",
       "  <tbody>\n",
       "    <tr>\n",
       "      <th>0</th>\n",
       "      <td>7129300520</td>\n",
       "      <td>20141013T000000</td>\n",
       "      <td>221900.0</td>\n",
       "      <td>3</td>\n",
       "      <td>1.00</td>\n",
       "      <td>1180</td>\n",
       "      <td>5650</td>\n",
       "      <td>1.0</td>\n",
       "      <td>0</td>\n",
       "      <td>0</td>\n",
       "      <td>3</td>\n",
       "      <td>7</td>\n",
       "      <td>1180</td>\n",
       "      <td>0</td>\n",
       "      <td>1955</td>\n",
       "      <td>0</td>\n",
       "      <td>98178</td>\n",
       "      <td>47.5112</td>\n",
       "      <td>-122.257</td>\n",
       "      <td>1340</td>\n",
       "      <td>5650</td>\n",
       "    </tr>\n",
       "    <tr>\n",
       "      <th>1</th>\n",
       "      <td>6414100192</td>\n",
       "      <td>20141209T000000</td>\n",
       "      <td>538000.0</td>\n",
       "      <td>3</td>\n",
       "      <td>2.25</td>\n",
       "      <td>2570</td>\n",
       "      <td>7242</td>\n",
       "      <td>2.0</td>\n",
       "      <td>0</td>\n",
       "      <td>0</td>\n",
       "      <td>3</td>\n",
       "      <td>7</td>\n",
       "      <td>2170</td>\n",
       "      <td>400</td>\n",
       "      <td>1951</td>\n",
       "      <td>1991</td>\n",
       "      <td>98125</td>\n",
       "      <td>47.7210</td>\n",
       "      <td>-122.319</td>\n",
       "      <td>1690</td>\n",
       "      <td>7639</td>\n",
       "    </tr>\n",
       "    <tr>\n",
       "      <th>2</th>\n",
       "      <td>5631500400</td>\n",
       "      <td>20150225T000000</td>\n",
       "      <td>180000.0</td>\n",
       "      <td>2</td>\n",
       "      <td>1.00</td>\n",
       "      <td>770</td>\n",
       "      <td>10000</td>\n",
       "      <td>1.0</td>\n",
       "      <td>0</td>\n",
       "      <td>0</td>\n",
       "      <td>3</td>\n",
       "      <td>6</td>\n",
       "      <td>770</td>\n",
       "      <td>0</td>\n",
       "      <td>1933</td>\n",
       "      <td>0</td>\n",
       "      <td>98028</td>\n",
       "      <td>47.7379</td>\n",
       "      <td>-122.233</td>\n",
       "      <td>2720</td>\n",
       "      <td>8062</td>\n",
       "    </tr>\n",
       "    <tr>\n",
       "      <th>3</th>\n",
       "      <td>2487200875</td>\n",
       "      <td>20141209T000000</td>\n",
       "      <td>604000.0</td>\n",
       "      <td>4</td>\n",
       "      <td>3.00</td>\n",
       "      <td>1960</td>\n",
       "      <td>5000</td>\n",
       "      <td>1.0</td>\n",
       "      <td>0</td>\n",
       "      <td>0</td>\n",
       "      <td>5</td>\n",
       "      <td>7</td>\n",
       "      <td>1050</td>\n",
       "      <td>910</td>\n",
       "      <td>1965</td>\n",
       "      <td>0</td>\n",
       "      <td>98136</td>\n",
       "      <td>47.5208</td>\n",
       "      <td>-122.393</td>\n",
       "      <td>1360</td>\n",
       "      <td>5000</td>\n",
       "    </tr>\n",
       "    <tr>\n",
       "      <th>4</th>\n",
       "      <td>1954400510</td>\n",
       "      <td>20150218T000000</td>\n",
       "      <td>510000.0</td>\n",
       "      <td>3</td>\n",
       "      <td>2.00</td>\n",
       "      <td>1680</td>\n",
       "      <td>8080</td>\n",
       "      <td>1.0</td>\n",
       "      <td>0</td>\n",
       "      <td>0</td>\n",
       "      <td>3</td>\n",
       "      <td>8</td>\n",
       "      <td>1680</td>\n",
       "      <td>0</td>\n",
       "      <td>1987</td>\n",
       "      <td>0</td>\n",
       "      <td>98074</td>\n",
       "      <td>47.6168</td>\n",
       "      <td>-122.045</td>\n",
       "      <td>1800</td>\n",
       "      <td>7503</td>\n",
       "    </tr>\n",
       "  </tbody>\n",
       "</table>\n",
       "</div>"
      ],
      "text/plain": [
       "           id             date     price  bedrooms  bathrooms  sqft_living  \\\n",
       "0  7129300520  20141013T000000  221900.0         3       1.00         1180   \n",
       "1  6414100192  20141209T000000  538000.0         3       2.25         2570   \n",
       "2  5631500400  20150225T000000  180000.0         2       1.00          770   \n",
       "3  2487200875  20141209T000000  604000.0         4       3.00         1960   \n",
       "4  1954400510  20150218T000000  510000.0         3       2.00         1680   \n",
       "\n",
       "   sqft_lot  floors  waterfront  view  condition  grade  sqft_above  \\\n",
       "0      5650     1.0           0     0          3      7        1180   \n",
       "1      7242     2.0           0     0          3      7        2170   \n",
       "2     10000     1.0           0     0          3      6         770   \n",
       "3      5000     1.0           0     0          5      7        1050   \n",
       "4      8080     1.0           0     0          3      8        1680   \n",
       "\n",
       "   sqft_basement  yr_built  yr_renovated  zipcode      lat     long  \\\n",
       "0              0      1955             0    98178  47.5112 -122.257   \n",
       "1            400      1951          1991    98125  47.7210 -122.319   \n",
       "2              0      1933             0    98028  47.7379 -122.233   \n",
       "3            910      1965             0    98136  47.5208 -122.393   \n",
       "4              0      1987             0    98074  47.6168 -122.045   \n",
       "\n",
       "   sqft_living15  sqft_lot15  \n",
       "0           1340        5650  \n",
       "1           1690        7639  \n",
       "2           2720        8062  \n",
       "3           1360        5000  \n",
       "4           1800        7503  "
      ]
     },
     "execution_count": 2,
     "metadata": {},
     "output_type": "execute_result"
    }
   ],
   "source": [
    "df = pd.read_csv('./data/kc_house_data.csv')\n",
    "df.head()"
   ]
  },
  {
   "cell_type": "markdown",
   "metadata": {},
   "source": [
    "Select features of interest and split into train/test sets."
   ]
  },
  {
   "cell_type": "code",
   "execution_count": 3,
   "metadata": {
    "colab": {
     "autoexec": {
      "startup": false,
      "wait_interval": 0
     },
     "base_uri": "https://localhost:8080/",
     "height": 265,
     "output_extras": [
      {
       "item_id": 1
      }
     ]
    },
    "colab_type": "code",
    "collapsed": true,
    "executionInfo": {
     "elapsed": 294,
     "status": "ok",
     "timestamp": 1516397196267,
     "user": {
      "displayName": "Jason King",
      "photoUrl": "//lh6.googleusercontent.com/-BCvRrC5m8pI/AAAAAAAAAAI/AAAAAAAADwo/iT2jFBMk_m0/s50-c-k-no/photo.jpg",
      "userId": "109368065704340225284"
     },
     "user_tz": 360
    },
    "id": "EGafZmxDOZC1",
    "outputId": "4300e42f-77b2-4143-f09a-9ca9337bcd55"
   },
   "outputs": [],
   "source": [
    "X = df[['bedrooms', 'bathrooms', 'sqft_living',\n",
    "        'sqft_lot', 'floors', 'waterfront',\n",
    "        'view', 'condition', 'grade',\n",
    "        'sqft_above', 'sqft_basement', 'lat', 'long']].values\n",
    "y = df['price'].values\n",
    "\n",
    "X_train, X_test, y_train, y_test = train_test_split(X, y, test_size=0.3, random_state=seed)"
   ]
  },
  {
   "cell_type": "markdown",
   "metadata": {},
   "source": [
    "Define target function and instantiate Bayesion Optimization object."
   ]
  },
  {
   "cell_type": "code",
   "execution_count": 4,
   "metadata": {
    "collapsed": true
   },
   "outputs": [],
   "source": [
    "def target(**params):\n",
    "    l1_ratio = params['l1_ratio']\n",
    "    model = ElasticNet(alpha=0.1, l1_ratio=l1_ratio, random_state=seed)\n",
    "    scores = cross_val_score(model, X_train, y_train, scoring='r2', cv=5)\n",
    "    return scores.mean()"
   ]
  },
  {
   "cell_type": "code",
   "execution_count": 5,
   "metadata": {
    "colab": {
     "autoexec": {
      "startup": false,
      "wait_interval": 0
     },
     "base_uri": "https://localhost:8080/",
     "height": 374,
     "output_extras": [
      {
       "item_id": 11
      }
     ]
    },
    "colab_type": "code",
    "collapsed": false,
    "executionInfo": {
     "elapsed": 104247,
     "status": "ok",
     "timestamp": 1516397599997,
     "user": {
      "displayName": "Jason King",
      "photoUrl": "//lh6.googleusercontent.com/-BCvRrC5m8pI/AAAAAAAAAAI/AAAAAAAADwo/iT2jFBMk_m0/s50-c-k-no/photo.jpg",
      "userId": "109368065704340225284"
     },
     "user_tz": 360
    },
    "id": "VzOKud0wBhxl",
    "outputId": "08177c35-43ae-4887-e77d-b1841089c217"
   },
   "outputs": [
    {
     "name": "stdout",
     "output_type": "stream",
     "text": [
      "\u001b[31mInitialization\u001b[0m\n",
      "\u001b[94m------------------------------------------\u001b[0m\n",
      " Step |   Time |      Value |   l1_ratio | \n",
      "    1 | 00m00s | \u001b[35m   0.61983\u001b[0m | \u001b[32m    0.5164\u001b[0m | \n",
      "    2 | 00m00s | \u001b[35m   0.62267\u001b[0m | \u001b[32m    0.5707\u001b[0m | \n",
      "    3 | 00m00s |    0.60422 |     0.0285 | \n",
      "    4 | 00m00s |    0.60760 |     0.1715 | \n",
      "    5 | 00m00s | \u001b[35m   0.63014\u001b[0m | \u001b[32m    0.6853\u001b[0m | \n",
      "\u001b[31mBayesian Optimization\u001b[0m\n",
      "\u001b[94m------------------------------------------\u001b[0m\n",
      " Step |   Time |      Value |   l1_ratio | \n",
      "    6 | 00m05s | \u001b[35m   0.66678\u001b[0m | \u001b[32m    1.0000\u001b[0m | \n",
      "    7 | 00m04s | \u001b[35m   0.66678\u001b[0m | \u001b[32m    1.0000\u001b[0m | \n",
      "    8 | 00m05s | \u001b[35m   0.66678\u001b[0m | \u001b[32m    1.0000\u001b[0m | \n",
      "    9 | 00m05s | \u001b[35m   0.66678\u001b[0m | \u001b[32m    0.9997\u001b[0m | \n",
      "   10 | 00m05s |    0.66678 |     0.9999 | \n",
      "   11 | 00m05s | \u001b[35m   0.66678\u001b[0m | \u001b[32m    0.9995\u001b[0m | \n",
      "   12 | 00m05s |    0.66678 |     0.9996 | \n",
      "   13 | 00m04s |    0.66676 |     0.9960 | \n",
      "   14 | 00m05s |    0.66178 |     0.9535 | \n",
      "   15 | 00m05s | \u001b[35m   0.66679\u001b[0m | \u001b[32m    0.9992\u001b[0m | \n"
     ]
    }
   ],
   "source": [
    "params = {'l1_ratio':(0,1)}\n",
    "bo = BayesianOptimization(target, params, random_state=seed)\n",
    "bo.gp.set_params(alpha=1e-8)\n",
    "bo.maximize(init_points=5, n_iter=10, acq='ucb', kappa=5)"
   ]
  },
  {
   "cell_type": "code",
   "execution_count": 6,
   "metadata": {
    "colab": {
     "autoexec": {
      "startup": false,
      "wait_interval": 0
     },
     "base_uri": "https://localhost:8080/",
     "height": 34,
     "output_extras": [
      {
       "item_id": 1
      }
     ]
    },
    "colab_type": "code",
    "collapsed": false,
    "executionInfo": {
     "elapsed": 295,
     "status": "ok",
     "timestamp": 1516397602212,
     "user": {
      "displayName": "Jason King",
      "photoUrl": "//lh6.googleusercontent.com/-BCvRrC5m8pI/AAAAAAAAAAI/AAAAAAAADwo/iT2jFBMk_m0/s50-c-k-no/photo.jpg",
      "userId": "109368065704340225284"
     },
     "user_tz": 360
    },
    "id": "W38StyqEEBVM",
    "outputId": "49afce1f-4615-49a4-ce7e-4a14d25147b1"
   },
   "outputs": [
    {
     "data": {
      "text/plain": [
       "{'max_params': {'l1_ratio': 0.99918671124538316},\n",
       " 'max_val': 0.66678564361771464}"
      ]
     },
     "execution_count": 6,
     "metadata": {},
     "output_type": "execute_result"
    }
   ],
   "source": [
    "bo.res['max']"
   ]
  },
  {
   "cell_type": "markdown",
   "metadata": {},
   "source": [
    "Generate predictions and evaluate performance on test set."
   ]
  },
  {
   "cell_type": "code",
   "execution_count": 7,
   "metadata": {
    "colab": {
     "autoexec": {
      "startup": false,
      "wait_interval": 0
     }
    },
    "colab_type": "code",
    "collapsed": false,
    "id": "Ylb4LAWtF_xY"
   },
   "outputs": [
    {
     "data": {
      "text/plain": [
       "0.6823066522957334"
      ]
     },
     "execution_count": 7,
     "metadata": {},
     "output_type": "execute_result"
    }
   ],
   "source": [
    "model = ElasticNet(**bo.res['max']['max_params']).fit(X_train, y_train)\n",
    "y_pred = model.predict(X_test)\n",
    "\n",
    "r2_score(y_test, y_pred)"
   ]
  },
  {
   "cell_type": "markdown",
   "metadata": {},
   "source": [
    "Inspect hyperparameter space."
   ]
  },
  {
   "cell_type": "code",
   "execution_count": 8,
   "metadata": {
    "colab": {
     "autoexec": {
      "startup": false,
      "wait_interval": 0
     },
     "base_uri": "https://localhost:8080/",
     "height": 393,
     "output_extras": [
      {
       "item_id": 1
      }
     ]
    },
    "colab_type": "code",
    "collapsed": false,
    "executionInfo": {
     "elapsed": 724,
     "status": "ok",
     "timestamp": 1516397631592,
     "user": {
      "displayName": "Jason King",
      "photoUrl": "//lh6.googleusercontent.com/-BCvRrC5m8pI/AAAAAAAAAAI/AAAAAAAADwo/iT2jFBMk_m0/s50-c-k-no/photo.jpg",
      "userId": "109368065704340225284"
     },
     "user_tz": 360
    },
    "id": "JQTpgOW85KaR",
    "outputId": "0e742392-c454-48a4-c5e8-949a5b98a211"
   },
   "outputs": [
    {
     "data": {
      "image/png": "[encoded data removed]",
      "text/plain": [
       "<matplotlib.figure.Figure at 0x215dc7fa4a8>"
      ]
     },
     "metadata": {},
     "output_type": "display_data"
    }
   ],
   "source": [
    "X_all = np.linspace(0, 1, 100)\n",
    "mu, std = bo.gp.predict(X_all.reshape(-1,1), return_std=True)\n",
    "\n",
    "plt.figure(figsize=(9,6))\n",
    "plt.scatter(bo.X.ravel(), bo.Y.ravel(), color='red', label='Samples', zorder=20)\n",
    "plt.plot(X_all, mu, color='steelblue', label='Prediction')\n",
    "plt.fill_between(X_all, mu-1.96*std, mu+1.96*std, color='steelblue', alpha=0.5, label='95% Confidence Interval')\n",
    "plt.legend(loc='best')\n",
    "plt.xlabel('l1_ratio', fontsize=16)\n",
    "plt.ylabel('$R^2$ Score', fontsize=16)\n",
    "plt.show()"
   ]
  },
  {
   "cell_type": "code",
   "execution_count": null,
   "metadata": {
    "collapsed": true
   },
   "outputs": [],
   "source": []
  }
 ],
 "metadata": {
  "colab": {
   "collapsed_sections": [],
   "default_view": {},
   "name": "simple_regression.ipynb",
   "provenance": [],
   "version": "0.3.2",
   "views": {}
  },
  "kernelspec": {
   "display_name": "Python [conda env:bayes_opt]",
   "language": "python",
   "name": "conda-env-bayes_opt-py"
  },
  "language_info": {
   "codemirror_mode": {
    "name": "ipython",
    "version": 3
   },
   "file_extension": ".py",
   "mimetype": "text/x-python",
   "name": "python",
   "nbconvert_exporter": "python",
   "pygments_lexer": "ipython3",
   "version": "3.6.3"
  }
 },
 "nbformat": 4,
 "nbformat_minor": 1
}
