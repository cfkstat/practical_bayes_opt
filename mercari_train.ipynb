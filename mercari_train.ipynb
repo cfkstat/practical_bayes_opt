{
 "cells": [
  {
   "cell_type": "code",
   "execution_count": 1,
   "metadata": {
    "collapsed": true
   },
   "outputs": [],
   "source": [
    "from sklearn.metrics import make_scorer, mean_squared_log_error\n",
    "from sklearn.model_selection import cross_val_score\n",
    "from sklearn.pipeline import Pipeline\n",
    "\n",
    "from bayes_opt import BayesianOptimization\n",
    "\n",
    "import pandas as pd\n",
    "import numpy as np\n",
    "import dill\n",
    "import time\n",
    "\n",
    "seed = 101 # Lucky seed"
   ]
  },
  {
   "cell_type": "code",
   "execution_count": 2,
   "metadata": {
    "collapsed": true
   },
   "outputs": [],
   "source": [
    "def load_dill(fname):\n",
    "    with open(fname, 'rb') as f:\n",
    "        return dill.load(f)\n",
    "    \n",
    "def rmsle(y_true, y_pred):\n",
    "    # Remember, we transformed price with log1p previously.\n",
    "    return np.sqrt(mean_squared_log_error(np.expm1(y_true), np.expm1(y_pred)))\n",
    "\n",
    "neg_rmsle = make_scorer(rmsle, greater_is_better=False)"
   ]
  },
  {
   "cell_type": "markdown",
   "metadata": {},
   "source": [
    "Load data from mercari_process.ipynb."
   ]
  },
  {
   "cell_type": "code",
   "execution_count": 3,
   "metadata": {
    "collapsed": true
   },
   "outputs": [],
   "source": [
    "data = load_dill('mercari.dill')\n",
    "X_train, y_train = data['X_train'], data['y_train']"
   ]
  },
  {
   "cell_type": "markdown",
   "metadata": {},
   "source": [
    "Remember the features are as follows:\n",
    "- item_condition_id\n",
    "- shipping\n",
    "- cat_0\n",
    "- cat_1\n",
    "- cat_2\n",
    "- brand_name\n",
    "\n",
    "The rest are full descriptions transformed via lsa."
   ]
  },
  {
   "cell_type": "code",
   "execution_count": 6,
   "metadata": {
    "scrolled": true
   },
   "outputs": [
    {
     "name": "stdout",
     "output_type": "stream",
     "text": [
      "\u001b[31mInitialization\u001b[0m\n",
      "\u001b[94m--------------------------------------------------------------------------\u001b[0m\n",
      " Step |   Time |      Value |     depth |   iterations |   learning_rate | \n",
      "    1 | 30m01s | \u001b[35m  -0.55789\u001b[0m | \u001b[32m   5.9880\u001b[0m | \u001b[32m    251.8301\u001b[0m | \u001b[32m         0.5164\u001b[0m | \n",
      "    2 | 13m23s |   -0.59087 |    4.1692 |      99.0202 |          0.5707 | \n",
      "    3 | 16m32s |   -0.67912 |    2.6370 |     269.1478 |          0.0286 | \n",
      "    4 | 43m53s |   -0.55971 |    8.0704 |     219.2477 |          0.1716 | \n",
      "    5 | 17m10s |   -0.57276 |    9.6893 |      65.0823 |          0.6853 | \n",
      "\u001b[31mBayesian Optimization\u001b[0m\n",
      "\u001b[94m--------------------------------------------------------------------------\u001b[0m\n",
      " Step |   Time |      Value |     depth |   iterations |   learning_rate | \n",
      "    6 | 05m34s |   -3.06894 |    1.0000 |      10.0000 |          0.0001 | \n",
      "    7 | 41m58s |   -0.56062 |   10.0000 |     159.0267 |          1.0000 | \n",
      "    8 | 74m14s |   -0.56245 |   10.0000 |     300.0000 |          1.0000 | \n",
      "    9 | 08m50s |   -0.63137 |    1.0000 |     186.6376 |          1.0000 | \n",
      "   10 | 07m43s |   -3.03365 |    1.0000 |     133.4961 |          0.0001 | \n"
     ]
    }
   ],
   "source": [
    "from catboost import CatBoostRegressor\n",
    "\n",
    "def target(**params):\n",
    "    learning_rate = params['learning_rate']\n",
    "    iterations = int(params['iterations'])\n",
    "    depth = int(params['depth'])\n",
    "    model = CatBoostRegressor(logging_level='Silent',\n",
    "                              iterations=iterations,\n",
    "                              learning_rate=learning_rate,\n",
    "                              depth=depth,\n",
    "                              random_seed=seed)\n",
    "    scores = cross_val_score(model, X_train, y_train, scoring=neg_rmsle, cv=3)\n",
    "    return scores.mean()\n",
    "    \n",
    "params = {'learning_rate':(1e-4,1),\n",
    "          'iterations':(10,300),\n",
    "          'depth':(1,10)}\n",
    "bo = BayesianOptimization(target, params, random_state=seed)\n",
    "bo.gp.set_params(alpha=1e-8)\n",
    "bo.maximize(init_points=5, n_iter=5, acq='ucb', kappa=5)"
   ]
  },
  {
   "cell_type": "code",
   "execution_count": null,
   "metadata": {
    "collapsed": true
   },
   "outputs": [],
   "source": []
  }
 ],
 "metadata": {
  "kernelspec": {
   "display_name": "Python [conda env:bayes_opt]",
   "language": "python",
   "name": "conda-env-bayes_opt-py"
  },
  "language_info": {
   "codemirror_mode": {
    "name": "ipython",
    "version": 3
   },
   "file_extension": ".py",
   "mimetype": "text/x-python",
   "name": "python",
   "nbconvert_exporter": "python",
   "pygments_lexer": "ipython3",
   "version": "3.6.3"
  }
 },
 "nbformat": 4,
 "nbformat_minor": 2
}
