{
 "cells": [
  {
   "cell_type": "code",
   "execution_count": 1,
   "metadata": {
    "colab": {
     "autoexec": {
      "startup": false,
      "wait_interval": 0
     }
    },
    "colab_type": "code",
    "collapsed": true,
    "id": "diQvTLiDAWZ2"
   },
   "outputs": [],
   "source": [
    "from bayes_opt import BayesianOptimization\n",
    "\n",
    "from sklearn.model_selection import cross_val_score, train_test_split\n",
    "from sklearn.ensemble import RandomForestClassifier\n",
    "from sklearn.metrics import log_loss\n",
    "\n",
    "import pandas as pd\n",
    "import numpy as np\n",
    "import warnings\n",
    "\n",
    "warnings.filterwarnings('ignore')\n",
    "seed = 101 # Lucky seed"
   ]
  },
  {
   "cell_type": "markdown",
   "metadata": {},
   "source": [
    "Load and inspect San Francisco Crime Classification dataset."
   ]
  },
  {
   "cell_type": "code",
   "execution_count": 2,
   "metadata": {},
   "outputs": [
    {
     "data": {
      "text/html": [
       "<div>\n",
       "<style>\n",
       "    .dataframe thead tr:only-child th {\n",
       "        text-align: right;\n",
       "    }\n",
       "\n",
       "    .dataframe thead th {\n",
       "        text-align: left;\n",
       "    }\n",
       "\n",
       "    .dataframe tbody tr th {\n",
       "        vertical-align: top;\n",
       "    }\n",
       "</style>\n",
       "<table border=\"1\" class=\"dataframe\">\n",
       "  <thead>\n",
       "    <tr style=\"text-align: right;\">\n",
       "      <th></th>\n",
       "      <th>Dates</th>\n",
       "      <th>Category</th>\n",
       "      <th>Descript</th>\n",
       "      <th>DayOfWeek</th>\n",
       "      <th>PdDistrict</th>\n",
       "      <th>Resolution</th>\n",
       "      <th>Address</th>\n",
       "      <th>X</th>\n",
       "      <th>Y</th>\n",
       "    </tr>\n",
       "  </thead>\n",
       "  <tbody>\n",
       "    <tr>\n",
       "      <th>0</th>\n",
       "      <td>2015-05-13 23:53:00</td>\n",
       "      <td>WARRANTS</td>\n",
       "      <td>WARRANT ARREST</td>\n",
       "      <td>Wednesday</td>\n",
       "      <td>NORTHERN</td>\n",
       "      <td>ARREST, BOOKED</td>\n",
       "      <td>OAK ST / LAGUNA ST</td>\n",
       "      <td>-122.425892</td>\n",
       "      <td>37.774599</td>\n",
       "    </tr>\n",
       "    <tr>\n",
       "      <th>1</th>\n",
       "      <td>2015-05-13 23:53:00</td>\n",
       "      <td>OTHER OFFENSES</td>\n",
       "      <td>TRAFFIC VIOLATION ARREST</td>\n",
       "      <td>Wednesday</td>\n",
       "      <td>NORTHERN</td>\n",
       "      <td>ARREST, BOOKED</td>\n",
       "      <td>OAK ST / LAGUNA ST</td>\n",
       "      <td>-122.425892</td>\n",
       "      <td>37.774599</td>\n",
       "    </tr>\n",
       "    <tr>\n",
       "      <th>2</th>\n",
       "      <td>2015-05-13 23:33:00</td>\n",
       "      <td>OTHER OFFENSES</td>\n",
       "      <td>TRAFFIC VIOLATION ARREST</td>\n",
       "      <td>Wednesday</td>\n",
       "      <td>NORTHERN</td>\n",
       "      <td>ARREST, BOOKED</td>\n",
       "      <td>VANNESS AV / GREENWICH ST</td>\n",
       "      <td>-122.424363</td>\n",
       "      <td>37.800414</td>\n",
       "    </tr>\n",
       "    <tr>\n",
       "      <th>3</th>\n",
       "      <td>2015-05-13 23:30:00</td>\n",
       "      <td>LARCENY/THEFT</td>\n",
       "      <td>GRAND THEFT FROM LOCKED AUTO</td>\n",
       "      <td>Wednesday</td>\n",
       "      <td>NORTHERN</td>\n",
       "      <td>NONE</td>\n",
       "      <td>1500 Block of LOMBARD ST</td>\n",
       "      <td>-122.426995</td>\n",
       "      <td>37.800873</td>\n",
       "    </tr>\n",
       "    <tr>\n",
       "      <th>4</th>\n",
       "      <td>2015-05-13 23:30:00</td>\n",
       "      <td>LARCENY/THEFT</td>\n",
       "      <td>GRAND THEFT FROM LOCKED AUTO</td>\n",
       "      <td>Wednesday</td>\n",
       "      <td>PARK</td>\n",
       "      <td>NONE</td>\n",
       "      <td>100 Block of BRODERICK ST</td>\n",
       "      <td>-122.438738</td>\n",
       "      <td>37.771541</td>\n",
       "    </tr>\n",
       "  </tbody>\n",
       "</table>\n",
       "</div>"
      ],
      "text/plain": [
       "                 Dates        Category                      Descript  \\\n",
       "0  2015-05-13 23:53:00        WARRANTS                WARRANT ARREST   \n",
       "1  2015-05-13 23:53:00  OTHER OFFENSES      TRAFFIC VIOLATION ARREST   \n",
       "2  2015-05-13 23:33:00  OTHER OFFENSES      TRAFFIC VIOLATION ARREST   \n",
       "3  2015-05-13 23:30:00   LARCENY/THEFT  GRAND THEFT FROM LOCKED AUTO   \n",
       "4  2015-05-13 23:30:00   LARCENY/THEFT  GRAND THEFT FROM LOCKED AUTO   \n",
       "\n",
       "   DayOfWeek PdDistrict      Resolution                    Address  \\\n",
       "0  Wednesday   NORTHERN  ARREST, BOOKED         OAK ST / LAGUNA ST   \n",
       "1  Wednesday   NORTHERN  ARREST, BOOKED         OAK ST / LAGUNA ST   \n",
       "2  Wednesday   NORTHERN  ARREST, BOOKED  VANNESS AV / GREENWICH ST   \n",
       "3  Wednesday   NORTHERN            NONE   1500 Block of LOMBARD ST   \n",
       "4  Wednesday       PARK            NONE  100 Block of BRODERICK ST   \n",
       "\n",
       "            X          Y  \n",
       "0 -122.425892  37.774599  \n",
       "1 -122.425892  37.774599  \n",
       "2 -122.424363  37.800414  \n",
       "3 -122.426995  37.800873  \n",
       "4 -122.438738  37.771541  "
      ]
     },
     "execution_count": 2,
     "metadata": {},
     "output_type": "execute_result"
    }
   ],
   "source": [
    "df = pd.read_csv('./data/train.csv')\n",
    "df.head()"
   ]
  },
  {
   "cell_type": "markdown",
   "metadata": {},
   "source": [
    "Numerically encode target and categorical variables."
   ]
  },
  {
   "cell_type": "code",
   "execution_count": 3,
   "metadata": {
    "collapsed": true
   },
   "outputs": [],
   "source": [
    "cat_feats = ['Category', 'Descript', 'DayOfWeek', 'PdDistrict', 'Resolution']\n",
    "cat_dicts = {}\n",
    "for feat in cat_feats:\n",
    "    cat_dicts[feat] = {k:v for (v,k) in enumerate(df[feat].value_counts().index)}"
   ]
  },
  {
   "cell_type": "code",
   "execution_count": 4,
   "metadata": {},
   "outputs": [
    {
     "data": {
      "text/html": [
       "<div>\n",
       "<style>\n",
       "    .dataframe thead tr:only-child th {\n",
       "        text-align: right;\n",
       "    }\n",
       "\n",
       "    .dataframe thead th {\n",
       "        text-align: left;\n",
       "    }\n",
       "\n",
       "    .dataframe tbody tr th {\n",
       "        vertical-align: top;\n",
       "    }\n",
       "</style>\n",
       "<table border=\"1\" class=\"dataframe\">\n",
       "  <thead>\n",
       "    <tr style=\"text-align: right;\">\n",
       "      <th></th>\n",
       "      <th>Dates</th>\n",
       "      <th>Category</th>\n",
       "      <th>Descript</th>\n",
       "      <th>DayOfWeek</th>\n",
       "      <th>PdDistrict</th>\n",
       "      <th>Resolution</th>\n",
       "      <th>Address</th>\n",
       "      <th>X</th>\n",
       "      <th>Y</th>\n",
       "    </tr>\n",
       "  </thead>\n",
       "  <tbody>\n",
       "    <tr>\n",
       "      <th>0</th>\n",
       "      <td>2015-05-13 23:53:00</td>\n",
       "      <td>7</td>\n",
       "      <td>5</td>\n",
       "      <td>1</td>\n",
       "      <td>2</td>\n",
       "      <td>1</td>\n",
       "      <td>OAK ST / LAGUNA ST</td>\n",
       "      <td>-122.425892</td>\n",
       "      <td>37.774599</td>\n",
       "    </tr>\n",
       "    <tr>\n",
       "      <th>1</th>\n",
       "      <td>2015-05-13 23:53:00</td>\n",
       "      <td>1</td>\n",
       "      <td>44</td>\n",
       "      <td>1</td>\n",
       "      <td>2</td>\n",
       "      <td>1</td>\n",
       "      <td>OAK ST / LAGUNA ST</td>\n",
       "      <td>-122.425892</td>\n",
       "      <td>37.774599</td>\n",
       "    </tr>\n",
       "    <tr>\n",
       "      <th>2</th>\n",
       "      <td>2015-05-13 23:33:00</td>\n",
       "      <td>1</td>\n",
       "      <td>44</td>\n",
       "      <td>1</td>\n",
       "      <td>2</td>\n",
       "      <td>1</td>\n",
       "      <td>VANNESS AV / GREENWICH ST</td>\n",
       "      <td>-122.424363</td>\n",
       "      <td>37.800414</td>\n",
       "    </tr>\n",
       "    <tr>\n",
       "      <th>3</th>\n",
       "      <td>2015-05-13 23:30:00</td>\n",
       "      <td>0</td>\n",
       "      <td>0</td>\n",
       "      <td>1</td>\n",
       "      <td>2</td>\n",
       "      <td>0</td>\n",
       "      <td>1500 Block of LOMBARD ST</td>\n",
       "      <td>-122.426995</td>\n",
       "      <td>37.800873</td>\n",
       "    </tr>\n",
       "    <tr>\n",
       "      <th>4</th>\n",
       "      <td>2015-05-13 23:30:00</td>\n",
       "      <td>0</td>\n",
       "      <td>0</td>\n",
       "      <td>1</td>\n",
       "      <td>8</td>\n",
       "      <td>0</td>\n",
       "      <td>100 Block of BRODERICK ST</td>\n",
       "      <td>-122.438738</td>\n",
       "      <td>37.771541</td>\n",
       "    </tr>\n",
       "  </tbody>\n",
       "</table>\n",
       "</div>"
      ],
      "text/plain": [
       "                 Dates  Category  Descript  DayOfWeek  PdDistrict  Resolution  \\\n",
       "0  2015-05-13 23:53:00         7         5          1           2           1   \n",
       "1  2015-05-13 23:53:00         1        44          1           2           1   \n",
       "2  2015-05-13 23:33:00         1        44          1           2           1   \n",
       "3  2015-05-13 23:30:00         0         0          1           2           0   \n",
       "4  2015-05-13 23:30:00         0         0          1           8           0   \n",
       "\n",
       "                     Address           X          Y  \n",
       "0         OAK ST / LAGUNA ST -122.425892  37.774599  \n",
       "1         OAK ST / LAGUNA ST -122.425892  37.774599  \n",
       "2  VANNESS AV / GREENWICH ST -122.424363  37.800414  \n",
       "3   1500 Block of LOMBARD ST -122.426995  37.800873  \n",
       "4  100 Block of BRODERICK ST -122.438738  37.771541  "
      ]
     },
     "execution_count": 4,
     "metadata": {},
     "output_type": "execute_result"
    }
   ],
   "source": [
    "for feat in cat_dicts.keys():\n",
    "    df[feat] = df[feat].map(cat_dicts[feat])\n",
    "df.head()"
   ]
  },
  {
   "cell_type": "markdown",
   "metadata": {},
   "source": [
    "Grab data and split into train/test sets."
   ]
  },
  {
   "cell_type": "code",
   "execution_count": 5,
   "metadata": {
    "collapsed": true
   },
   "outputs": [],
   "source": [
    "X = df[['Descript', 'DayOfWeek', 'PdDistrict', 'Resolution', 'X', 'Y']].values\n",
    "y = df['Category'].values\n",
    "\n",
    "X_train, X_test, y_train, y_test = train_test_split(X, y, test_size=0.3, random_state=seed)"
   ]
  },
  {
   "cell_type": "markdown",
   "metadata": {},
   "source": [
    "Define target function and instantiate Bayesian Optimization instance."
   ]
  },
  {
   "cell_type": "code",
   "execution_count": 6,
   "metadata": {
    "colab": {
     "autoexec": {
      "startup": false,
      "wait_interval": 0
     }
    },
    "colab_type": "code",
    "collapsed": true,
    "id": "acAd_IVEBgfR"
   },
   "outputs": [],
   "source": [
    "def target(**params):\n",
    "    n_estimators = int(params['n_estimators'])\n",
    "    max_depth = int(params['max_depth'])\n",
    "    min_samples_split = int(params['min_samples_split'])\n",
    "    class_weight = int(params['class_weight'])\n",
    "    class_weight_dict = {0:None, 1:'balanced'}\n",
    "    model = RandomForestClassifier(n_estimators=n_estimators,\n",
    "                                   max_depth=max_depth,\n",
    "                                   min_samples_split=min_samples_split,\n",
    "                                   class_weight=class_weight_dict[class_weight],\n",
    "                                   n_jobs=-1, random_state=seed)\n",
    "    scores = cross_val_score(model, X_train, y_train, scoring='neg_log_loss', cv=3)\n",
    "    return scores.mean()"
   ]
  },
  {
   "cell_type": "code",
   "execution_count": 7,
   "metadata": {
    "colab": {
     "autoexec": {
      "startup": false,
      "wait_interval": 0
     },
     "base_uri": "https://localhost:8080/",
     "height": 374,
     "output_extras": [
      {
       "item_id": 17
      }
     ]
    },
    "colab_type": "code",
    "executionInfo": {
     "elapsed": 304411,
     "status": "ok",
     "timestamp": 1516339289003,
     "user": {
      "displayName": "Jason King",
      "photoUrl": "//lh6.googleusercontent.com/-BCvRrC5m8pI/AAAAAAAAAAI/AAAAAAAADwo/iT2jFBMk_m0/s50-c-k-no/photo.jpg",
      "userId": "109368065704340225284"
     },
     "user_tz": 360
    },
    "id": "VzOKud0wBhxl",
    "outputId": "e44f7178-019f-49ae-df33-f9acafe5e665"
   },
   "outputs": [
    {
     "name": "stdout",
     "output_type": "stream",
     "text": [
      "\u001b[31mInitialization\u001b[0m\n",
      "\u001b[94m---------------------------------------------------------------------------------------------------\u001b[0m\n",
      " Step |   Time |      Value |   class_weight |   max_depth |   min_samples_split |   n_estimators | \n",
      "    1 | 00m43s | \u001b[35m  -1.17155\u001b[0m | \u001b[32m        0.4624\u001b[0m | \u001b[32m    16.8440\u001b[0m | \u001b[32m            56.3143\u001b[0m | \u001b[32m      108.1157\u001b[0m | \n",
      "    2 | 00m33s |   -1.94870 |         0.1663 |      6.8324 |             36.5089 |       118.4268 | \n",
      "    3 | 00m08s |   -1.18467 |         1.2011 |     17.9786 |             19.8255 |        15.4101 | \n",
      "    4 | 00m18s |   -1.51822 |         1.4507 |     14.7093 |             78.9890 |        42.5891 | \n",
      "    5 | 00m32s |   -2.16718 |         0.5497 |      4.6088 |             96.6174 |       140.2026 | \n",
      "\u001b[31mBayesian Optimization\u001b[0m\n",
      "\u001b[94m---------------------------------------------------------------------------------------------------\u001b[0m\n",
      " Step |   Time |      Value |   class_weight |   max_depth |   min_samples_split |   n_estimators | \n",
      "    6 | 01m40s | \u001b[35m  -0.84328\u001b[0m | \u001b[32m        1.9900\u001b[0m | \u001b[32m    20.0000\u001b[0m | \u001b[32m             2.0000\u001b[0m | \u001b[32m      200.0000\u001b[0m | \n",
      "    7 | 01m33s |   -1.19028 |         1.9900 |     20.0000 |            100.0000 |       200.0000 | \n",
      "    8 | 00m37s |   -0.84555 |         1.9900 |     20.0000 |              2.0000 |        68.2161 | \n",
      "    9 | 00m04s |   -2.55372 |         0.0000 |      1.0000 |            100.0000 |        10.0000 | \n",
      "   10 | 00m41s |   -1.20064 |         1.9900 |     20.0000 |            100.0000 |        84.0624 | \n",
      "   11 | 00m34s |   -2.52764 |         0.0000 |      1.0000 |             45.3427 |       200.0000 | \n",
      "   12 | 00m34s |   -1.01191 |         0.0000 |     20.0000 |             44.2725 |        69.1537 | \n",
      "   13 | 00m05s |   -2.55372 |         0.0000 |      1.0000 |              2.0000 |        10.0000 | \n",
      "   14 | 01m21s |   -0.84589 |         1.9900 |     20.0000 |              2.0000 |       153.5836 | \n",
      "   15 | 00m57s |   -0.85308 |         1.9900 |     20.0000 |              2.0000 |       106.3331 | \n"
     ]
    }
   ],
   "source": [
    "params = {'n_estimators':(10,200),\n",
    "          'max_depth':(1,20),\n",
    "          'min_samples_split':(2,100),\n",
    "          'class_weight':(0,1.99)}\n",
    "bo = BayesianOptimization(target, params, random_state=seed)\n",
    "bo.maximize(init_points=5, n_iter=10, acq='ucb')"
   ]
  },
  {
   "cell_type": "code",
   "execution_count": 8,
   "metadata": {
    "colab": {
     "autoexec": {
      "startup": false,
      "wait_interval": 0
     },
     "base_uri": "https://localhost:8080/",
     "height": 85,
     "output_extras": [
      {
       "item_id": 1
      }
     ]
    },
    "colab_type": "code",
    "executionInfo": {
     "elapsed": 464,
     "status": "ok",
     "timestamp": 1516339293857,
     "user": {
      "displayName": "Jason King",
      "photoUrl": "//lh6.googleusercontent.com/-BCvRrC5m8pI/AAAAAAAAAAI/AAAAAAAADwo/iT2jFBMk_m0/s50-c-k-no/photo.jpg",
      "userId": "109368065704340225284"
     },
     "user_tz": 360
    },
    "id": "W38StyqEEBVM",
    "outputId": "a1520d59-edfd-435a-92c5-cba6e7784301"
   },
   "outputs": [
    {
     "data": {
      "text/plain": [
       "{'max_params': {'class_weight': 1.99,\n",
       "  'max_depth': 20.0,\n",
       "  'min_samples_split': 2.0,\n",
       "  'n_estimators': 200.0},\n",
       " 'max_val': -0.84328138630702298}"
      ]
     },
     "execution_count": 8,
     "metadata": {},
     "output_type": "execute_result"
    }
   ],
   "source": [
    "bo.res['max']"
   ]
  },
  {
   "cell_type": "markdown",
   "metadata": {},
   "source": [
    "Retrain model and score on test set."
   ]
  },
  {
   "cell_type": "code",
   "execution_count": 9,
   "metadata": {
    "colab": {
     "autoexec": {
      "startup": false,
      "wait_interval": 0
     }
    },
    "colab_type": "code",
    "collapsed": true,
    "id": "Ylb4LAWtF_xY"
   },
   "outputs": [],
   "source": [
    "model = RandomForestClassifier(n_estimators=200, max_depth=20, min_samples_split=2, class_weight='balanced', n_jobs=-1)\n",
    "model.fit(X_train, y_train)"
   ]
  },
  {
   "cell_type": "code",
   "execution_count": 11,
   "metadata": {},
   "outputs": [
    {
     "data": {
      "text/plain": [
       "0.81389066175198699"
      ]
     },
     "execution_count": 11,
     "metadata": {},
     "output_type": "execute_result"
    }
   ],
   "source": [
    "labels = list(cat_dicts['Category'].values())\n",
    "log_loss(y_test, model.predict_proba(X_test), labels=labels)"
   ]
  },
  {
   "cell_type": "code",
   "execution_count": 0,
   "metadata": {
    "colab": {
     "autoexec": {
      "startup": false,
      "wait_interval": 0
     }
    },
    "colab_type": "code",
    "collapsed": true,
    "id": "T-PqKCNZ53w1"
   },
   "outputs": [],
   "source": []
  }
 ],
 "metadata": {
  "colab": {
   "collapsed_sections": [],
   "default_view": {},
   "name": "simple_classification.ipynb",
   "provenance": [
    {
     "file_id": "1vM3Me2SW6IVgfzoFij_jdzM4keVn7dRT",
     "timestamp": 1516338359776
    }
   ],
   "version": "0.3.2",
   "views": {}
  },
  "kernelspec": {
   "display_name": "Python [conda env:bayes_opt]",
   "language": "python",
   "name": "conda-env-bayes_opt-py"
  },
  "language_info": {
   "codemirror_mode": {
    "name": "ipython",
    "version": 3
   },
   "file_extension": ".py",
   "mimetype": "text/x-python",
   "name": "python",
   "nbconvert_exporter": "python",
   "pygments_lexer": "ipython3",
   "version": "3.6.3"
  }
 },
 "nbformat": 4,
 "nbformat_minor": 1
}
